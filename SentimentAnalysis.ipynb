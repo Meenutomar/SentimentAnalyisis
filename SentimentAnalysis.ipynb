{
 "cells": [
  {
   "cell_type": "markdown",
   "metadata": {},
   "source": [
    "# Intel Product Sentiment Analysis\n",
    "@Author : Meenu Tomar(Parul University)\n",
    "@Roll : 2305102120008\n",
    "@Course : Msc-It(AI)\n"
   ]
  },
  {
   "cell_type": "markdown",
   "metadata": {},
   "source": [
    "## 1. Data Exploration"
   ]
  },
  {
   "cell_type": "markdown",
   "metadata": {},
   "source": []
  }
 ],
 "metadata": {
  "language_info": {
   "name": "python"
  }
 },
 "nbformat": 4,
 "nbformat_minor": 2
}
